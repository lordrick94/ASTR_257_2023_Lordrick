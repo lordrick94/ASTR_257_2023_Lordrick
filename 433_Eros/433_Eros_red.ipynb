{
 "cells": [
  {
   "cell_type": "code",
   "execution_count": null,
   "id": "cc1ede07",
   "metadata": {},
   "outputs": [],
   "source": [
    "import numpy as np\n",
    "from astropy.io import fits"
   ]
  },
  {
   "cell_type": "markdown",
   "id": "9c642559",
   "metadata": {},
   "source": [
    "# Data Reduction For 433 Eros observation\n",
    "\n",
    "### Telescope: 1m Nickel, Lick Observatory\n",
    "### Observers: LK,MB\n",
    "### Obs_Date: 09/25/2023"
   ]
  },
  {
   "cell_type": "markdown",
   "id": "6f7f6098",
   "metadata": {},
   "source": [
    "## Grabbing fits files"
   ]
  },
  {
   "cell_type": "code",
   "execution_count": null,
   "id": "d1f5d726",
   "metadata": {},
   "outputs": [],
   "source": [
    "def get_fits(n_1,n_2=None):\n",
    "    \"\"\"\n",
    "    Function to load data from obs fits files\n",
    "    \n",
    "    Parameters:\n",
    "    -----------\n",
    "    n_1:int - Starting file number\n",
    "    n_2:int - Ending file number\n",
    "    \"\"\"\n",
    "    if n_2 == None:\n",
    "        n_2=n_1\n",
    "    \n",
    "    hdus = [fits.open(f'data-2023-09-25-nickel-Andrew.Skemer/d{i+2000}.fits')[0].data for i in range(n_1,n_2+1)]\n",
    "    return hdus\n",
    "\n",
    "#Bias 2000-2002\n",
    "bias_frames = get_fits(0,2)\n",
    "\n",
    "#Darks 2003-2005\n",
    "dark_frames = get_fits(3,5)\n",
    "\n",
    "#Sky_Flats V 2062-2064\n",
    "Sky_V = get_fits(62,64)\n",
    "\n",
    "#LM Erros - Read 1 2086-2089\n",
    "LM_Eros_1 = get_fits(86,89)\n",
    "\n",
    "#LM_Eros - Read 2 2154-2158\n",
    "LM_Eros_2 = get_fits(154,158)"
   ]
  },
  {
   "cell_type": "code",
   "execution_count": null,
   "id": "a3d1b722",
   "metadata": {},
   "outputs": [],
   "source": [
    "def get_median(frame,exp_time=1):\n",
    "    # Calculating median\n",
    "    data = np.stack(frame,axis=0)\n",
    "    data_median = np.nanmedian(data,axis=0)\n",
    "    \n",
    "    #Geting Count per second\n",
    "    data_cps = data_median/exp_time\n",
    "    return data_median,data_cps"
   ]
  },
  {
   "cell_type": "markdown",
   "id": "bc7f0ba7",
   "metadata": {},
   "source": [
    "## Making Bias"
   ]
  },
  {
   "cell_type": "code",
   "execution_count": null,
   "id": "fc5d18f0",
   "metadata": {},
   "outputs": [],
   "source": [
    "# For the bias\n",
    "bias,bias_cps = get_median(bias_frames)"
   ]
  },
  {
   "cell_type": "markdown",
   "id": "6ce2dd2d",
   "metadata": {},
   "source": [
    "## Making Dark"
   ]
  },
  {
   "cell_type": "code",
   "execution_count": null,
   "id": "224b8f30",
   "metadata": {},
   "outputs": [],
   "source": [
    "# For the Dark Times, exp_time=30\n",
    "dark,dark_cps = get_median(dark_frames,30)\n",
    "dark_final = dark_cps-bias"
   ]
  },
  {
   "cell_type": "markdown",
   "id": "30bed2b1",
   "metadata": {},
   "source": [
    "## Making Flats"
   ]
  },
  {
   "cell_type": "code",
   "execution_count": null,
   "id": "6f849a05",
   "metadata": {},
   "outputs": [],
   "source": [
    "# For Sky_Flats_V\n",
    "_sky = []\n",
    "for i in range(3):\n",
    "    _Sky_V = Sky_V[0]-bias\n",
    "    sky_norm = _Sky_V/np.nanmedian(_Sky_V)\n",
    "    _sky.append(sky_norm)\n",
    "Sky_V_norm = np.stack(_sky,axis=0)\n",
    "Sky_V_final,sky_cps = get_median(Sky_V_norm)"
   ]
  },
  {
   "cell_type": "markdown",
   "id": "8667979b",
   "metadata": {},
   "source": [
    "## Making Science Image\n",
    "\n",
    "# $ScienceImg = \\frac{(ScienceFrame-bias-darks)}{FlatFrame}$"
   ]
  },
  {
   "cell_type": "code",
   "execution_count": null,
   "id": "c5774b28",
   "metadata": {},
   "outputs": [],
   "source": [
    "# Get median Science images\n",
    "\n",
    "# For image in read 1\n",
    "LM_1,LM_1_cps = get_median(LM_Eros_1,30)\n",
    "LM_1_final = (LM_1_cps - dark_final - bias)/Sky_V_final\n",
    "\n",
    "# For image in read 1\n",
    "LM_2,LM_2_cps = get_median(LM_Eros_2,30)\n",
    "LM_2_final = (LM_2_cps - dark_final - bias)/Sky_V_final"
   ]
  },
  {
   "cell_type": "markdown",
   "id": "41d284d9",
   "metadata": {},
   "source": [
    "## Making Final fits files"
   ]
  },
  {
   "cell_type": "code",
   "execution_count": null,
   "id": "de601398",
   "metadata": {},
   "outputs": [],
   "source": [
    "#Creating fits files using headers from obs\n",
    "\n",
    "# For read 1\n",
    "hdu_1 = fits.open(f'data-2023-09-25-nickel-Andrew.Skemer/d2086.fits')\n",
    "hdr_1 = hdu_1[0].header\n",
    "\n",
    "new_hdu_1 = fits.PrimaryHDU(data=LM_1_final,header=hdr_1)\n",
    "\n",
    "hdul = fits.HDUList([new_hdu_1])\n",
    "\n",
    "# Specify the filename for the FITS file\n",
    "fits_filename = '433_Eros_R1.fits'\n",
    "\n",
    "hdul.writeto(fits_filename, overwrite=True)"
   ]
  },
  {
   "cell_type": "code",
   "execution_count": null,
   "id": "0c1867fb",
   "metadata": {},
   "outputs": [],
   "source": [
    "#Creating fits files using headers from obs\n",
    "\n",
    "# For read 1\n",
    "hdu_2 = fits.open(f'data-2023-09-25-nickel-Andrew.Skemer/d2158.fits')\n",
    "hdr_2 = hdu_2[0].header\n",
    "\n",
    "new_hdu_2 = fits.PrimaryHDU(data=LM_2_final,header=hdr_2)\n",
    "\n",
    "hdul = fits.HDUList([new_hdu_2])\n",
    "\n",
    "# Specify the filename for the FITS file\n",
    "fits_filename = '433_Eros_R2.fits'\n",
    "\n",
    "hdul.writeto(fits_filename, overwrite=True)"
   ]
  },
  {
   "cell_type": "code",
   "execution_count": null,
   "id": "22c3ce4c",
   "metadata": {},
   "outputs": [],
   "source": [
    "Read_1\t558.412\t496.649\t865.803\t491.497\n",
    "Read_2\t589.352\t526.496\t858.301\t542.49"
   ]
  },
  {
   "cell_type": "code",
   "execution_count": 1,
   "id": "4c60b8d7",
   "metadata": {},
   "outputs": [
    {
     "data": {
      "text/html": [
       "<div>\n",
       "<style scoped>\n",
       "    .dataframe tbody tr th:only-of-type {\n",
       "        vertical-align: middle;\n",
       "    }\n",
       "\n",
       "    .dataframe tbody tr th {\n",
       "        vertical-align: top;\n",
       "    }\n",
       "\n",
       "    .dataframe thead th {\n",
       "        text-align: right;\n",
       "    }\n",
       "</style>\n",
       "<table border=\"1\" class=\"dataframe\">\n",
       "  <thead>\n",
       "    <tr style=\"text-align: right;\">\n",
       "      <th></th>\n",
       "      <th>ast_x</th>\n",
       "      <th>ast_y</th>\n",
       "      <th>star_x</th>\n",
       "      <th>star_y</th>\n",
       "    </tr>\n",
       "    <tr>\n",
       "      <th>obj_name</th>\n",
       "      <th></th>\n",
       "      <th></th>\n",
       "      <th></th>\n",
       "      <th></th>\n",
       "    </tr>\n",
       "  </thead>\n",
       "  <tbody>\n",
       "    <tr>\n",
       "      <th>Read_1</th>\n",
       "      <td>558.412</td>\n",
       "      <td>496.649</td>\n",
       "      <td>865.803</td>\n",
       "      <td>491.497</td>\n",
       "    </tr>\n",
       "    <tr>\n",
       "      <th>Read_2</th>\n",
       "      <td>589.352</td>\n",
       "      <td>536.496</td>\n",
       "      <td>858.301</td>\n",
       "      <td>542.496</td>\n",
       "    </tr>\n",
       "  </tbody>\n",
       "</table>\n",
       "</div>"
      ],
      "text/plain": [
       "            ast_x    ast_y   star_x   star_y\n",
       "obj_name                                    \n",
       "Read_1    558.412  496.649  865.803  491.497\n",
       "Read_2    589.352  536.496  858.301  542.496"
      ]
     },
     "execution_count": 1,
     "metadata": {},
     "output_type": "execute_result"
    }
   ],
   "source": [
    "import pandas as pd\n",
    "\n",
    "# Positions from ds9_centroids\n",
    "df = pd.read_csv('obj_pos.csv')\n",
    "df = df.set_index('obj_name')\n",
    "df"
   ]
  },
  {
   "cell_type": "code",
   "execution_count": 2,
   "id": "ff211b68",
   "metadata": {},
   "outputs": [
    {
     "name": "stdout",
     "output_type": "stream",
     "text": [
      "-307.39099999999996 -369.154\n",
      "-268.94900000000007 -321.80500000000006\n"
     ]
    }
   ],
   "source": [
    "del_x_1 = df.loc['Read_1']['ast_x'] - df.loc['Read_1']['star_x']\n",
    "del_y_1 = df.loc['Read_1']['ast_y'] - df.loc['Read_1']['star_x']\n",
    "print(del_x_1,del_y_1)\n",
    "\n",
    "del_x_2 = df.loc['Read_2']['ast_x'] - df.loc['Read_2']['star_x']\n",
    "del_y_2 = df.loc['Read_2']['ast_y'] - df.loc['Read_2']['star_x']\n",
    "\n",
    "print(del_x_2,del_y_2)"
   ]
  },
  {
   "cell_type": "code",
   "execution_count": 3,
   "id": "4c174b48",
   "metadata": {
    "scrolled": false
   },
   "outputs": [
    {
     "data": {
      "image/png": "[encoded data removed]",
      "text/plain": [
       "<Figure size 640x480 with 1 Axes>"
      ]
     },
     "metadata": {},
     "output_type": "display_data"
    }
   ],
   "source": [
    "import matplotlib.pyplot as plt\n",
    "import numpy as np\n",
    "\n",
    "# Define the components of vectors a_1 and a_2\n",
    "a1_x = del_x_1\n",
    "a1_y = del_y_1\n",
    "\n",
    "a2_x = del_x_2\n",
    "a2_y = del_y_2\n",
    "\n",
    "# Calculate the components of vector c (a_1 - a_2)\n",
    "c_x = a1_x - a2_x\n",
    "c_y = a1_y - a2_y\n",
    "\n",
    "# Create a figure and axis\n",
    "fig, ax = plt.subplots()\n",
    "\n",
    "# Plot vectors a_1 and a_2\n",
    "ax.quiver(0, 0, a1_x, a1_y, angles='xy', scale_units='xy', scale=1, color='b', label='a_1')\n",
    "ax.quiver(0, 0, a2_x, a2_y, angles='xy', scale_units='xy', scale=1, color='g', label='a_2')\n",
    "\n",
    "# Plot vector c in a different color starting at the tip of a_2\n",
    "ax.quiver(a2_x, a2_y, c_x, c_y, angles='xy', scale_units='xy', scale=1, color='r', label='c = a_1 - a_2')\n",
    "\n",
    "# Set axis limits based on vector magnitudes\n",
    "max_mag = max(abs(a1_x), abs(a1_y), abs(a2_x), abs(a2_y), abs(c_x), abs(c_y))\n",
    "ax.set_xlim(-max_mag - 1, max_mag + 1)\n",
    "ax.set_ylim(-max_mag - 1, max_mag + 1)\n",
    "\n",
    "# Add labels and legend\n",
    "ax.set_xlabel('X-axis')\n",
    "ax.set_ylabel('Y-axis')\n",
    "ax.legend()\n",
    "\n",
    "# Show the plot\n",
    "plt.grid()\n",
    "plt.axhline(0, color='black', linewidth=0.5)\n",
    "plt.axvline(0, color='black', linewidth=0.5)\n",
    "plt.savefig('test.jpg')\n",
    "plt.show()\n"
   ]
  },
  {
   "cell_type": "code",
   "execution_count": 4,
   "id": "6eb89f7b",
   "metadata": {
    "scrolled": false
   },
   "outputs": [],
   "source": [
    "from astropy.io import fits\n",
    "hdu = fits.open('433_Eros_R2.fits')\n",
    "hdr = hdu[0].header\n",
    "hdr['PIXSCALE'] = 0.184"
   ]
  },
  {
   "cell_type": "code",
   "execution_count": 5,
   "id": "576f1c6b",
   "metadata": {
    "scrolled": false
   },
   "outputs": [
    {
     "name": "stderr",
     "output_type": "stream",
     "text": [
      "/tmp/ipykernel_53769/2091709849.py:2: MatplotlibDeprecationWarning: The seaborn styles shipped by Matplotlib are deprecated since 3.6, as they no longer correspond to the styles shipped by seaborn. However, they will remain available as 'seaborn-v0_8-<style>'. Alternatively, directly use the seaborn API instead.\n",
      "  plt.style.use('seaborn')\n"
     ]
    },
    {
     "data": {
      "image/png": "[encoded data removed]",
      "text/plain": [
       "<Figure size 1000x800 with 1 Axes>"
      ]
     },
     "metadata": {},
     "output_type": "display_data"
    }
   ],
   "source": [
    "import matplotlib.pyplot as plt\n",
    "plt.style.use('seaborn')\n",
    "x = 250\n",
    "# Define the components of vectors a_1 and a_2\n",
    "a1_x, a1_y = -307.39099999999996+x, -369.154+x\n",
    "a2_x, a2_y = -268.94900000000007+x, -321.80500000000006+x\n",
    "\n",
    "# Calculate the components of vector c (a_1 - a_2)\n",
    "c_x = a1_x - a2_x\n",
    "c_y = a1_y - a2_y\n",
    "\n",
    "# Create a figure and axis\n",
    "fig, ax = plt.subplots(figsize=(10,8))\n",
    "# Plot vectors a_1 and a_2 with a scaled factor\n",
    "scale_factor = 0.01  # Adjust this factor as needed for a noticeable separation\n",
    "ax.quiver(0, 0, a1_x * scale_factor, a1_y * scale_factor, \n",
    "          angles='xy', scale_units='xy', scale=1, color='b', label='Read1_vector')\n",
    "ax.quiver(0, 0, a2_x * scale_factor, a2_y * scale_factor, \n",
    "          angles='xy', scale_units='xy', scale=1, color='g', label='Read2_vector')\n",
    "\n",
    "# Plot vector c in a different color starting at the tip of a_2\n",
    "ax.quiver(a2_x * scale_factor, a2_y * scale_factor, c_x * scale_factor, c_y * scale_factor, angles='xy', scale_units='xy', scale=1, color='r', label='Resultant')\n",
    "\n",
    "# Set axis limits based on vector magnitudes\n",
    "max_mag = max(abs(a1_x), abs(a1_y), abs(a2_x), abs(a2_y), abs(c_x), abs(c_y)) * scale_factor\n",
    "ax.set_xlim(-1,0.5)\n",
    "ax.set_ylim(-1.3,0.5)\n",
    "\n",
    "# Add labels and legend\n",
    "ax.set_xlabel('X-axis')\n",
    "ax.set_ylabel('Y-axis')\n",
    "plt.legend()\n",
    "# Show the plot\n",
    "plt.grid()\n",
    "plt.axhline(0, color='black', linewidth=0.5)\n",
    "plt.axvline(0, color='black', linewidth=0.5)\n",
    "\n",
    "plt.show()\n"
   ]
  },
  {
   "cell_type": "code",
   "execution_count": 7,
   "id": "8603818e",
   "metadata": {},
   "outputs": [
    {
     "name": "stdout",
     "output_type": "stream",
     "text": [
      "-7.0733279999999805\n"
     ]
    }
   ],
   "source": [
    "print()"
   ]
  }
 ],
 "metadata": {
  "kernelspec": {
   "display_name": "Python 3 (ipykernel)",
   "language": "python",
   "name": "python3"
  },
  "language_info": {
   "codemirror_mode": {
    "name": "ipython",
    "version": 3
   },
   "file_extension": ".py",
   "mimetype": "text/x-python",
   "name": "python",
   "nbconvert_exporter": "python",
   "pygments_lexer": "ipython3",
   "version": "3.10.12"
  }
 },
 "nbformat": 4,
 "nbformat_minor": 5
}
