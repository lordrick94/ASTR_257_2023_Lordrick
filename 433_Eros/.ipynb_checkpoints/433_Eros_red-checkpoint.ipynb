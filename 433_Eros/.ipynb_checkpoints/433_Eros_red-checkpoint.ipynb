{
 "cells": [
  {
   "cell_type": "code",
   "execution_count": 1,
   "id": "cc1ede07",
   "metadata": {},
   "outputs": [],
   "source": [
    "import numpy as np\n",
    "from astropy.io import fits"
   ]
  },
  {
   "cell_type": "markdown",
   "id": "9c642559",
   "metadata": {},
   "source": [
    "# Data Reduction For 433 Eros observation\n",
    "\n",
    "### Telescope: 1m Nickel, Lick Observatory\n",
    "### Observers: LK,MB\n",
    "### Obs_Date: 09/25/2023"
   ]
  },
  {
   "cell_type": "markdown",
   "id": "6f7f6098",
   "metadata": {},
   "source": [
    "## Grabbing fits files"
   ]
  },
  {
   "cell_type": "code",
   "execution_count": 2,
   "id": "d1f5d726",
   "metadata": {},
   "outputs": [],
   "source": [
    "def get_fits(n_1,n_2=None):\n",
    "    \"\"\"\n",
    "    Function to load data from obs fits files\n",
    "    \n",
    "    Parameters:\n",
    "    -----------\n",
    "    n_1:int - Starting file number\n",
    "    n_2:int - Ending file number\n",
    "    \"\"\"\n",
    "    if n_2 == None:\n",
    "        n_2=n_1\n",
    "    \n",
    "    hdus = [fits.open(f'data-2023-09-25-nickel-Andrew.Skemer/d{i+2000}.fits')[0].data for i in range(n_1,n_2+1)]\n",
    "    return hdus\n",
    "\n",
    "#Bias 2000-2002\n",
    "bias_frames = get_fits(0,2)\n",
    "\n",
    "#Darks 2003-2005\n",
    "dark_frames = get_fits(3,5)\n",
    "\n",
    "#Sky_Flats V 2062-2064\n",
    "Sky_V = get_fits(62,64)\n",
    "\n",
    "#LM Erros - Read 1 2086-2089\n",
    "LM_Eros_1 = get_fits(86,89)\n",
    "\n",
    "#LM_Eros - Read 2 2154-2158\n",
    "LM_Eros_2 = get_fits(154,158)"
   ]
  },
  {
   "cell_type": "code",
   "execution_count": 3,
   "id": "a3d1b722",
   "metadata": {},
   "outputs": [],
   "source": [
    "def get_median(frame,exp_time=1):\n",
    "    # Calculating median\n",
    "    data = np.stack(frame,axis=0)\n",
    "    data_median = np.nanmedian(data,axis=0)\n",
    "    \n",
    "    #Geting Count per second\n",
    "    data_cps = data_median/exp_time\n",
    "    return data_median,data_cps"
   ]
  },
  {
   "cell_type": "markdown",
   "id": "bc7f0ba7",
   "metadata": {},
   "source": [
    "## Making Bias"
   ]
  },
  {
   "cell_type": "code",
   "execution_count": 4,
   "id": "fc5d18f0",
   "metadata": {},
   "outputs": [],
   "source": [
    "# For the bias\n",
    "bias,bias_cps = get_median(bias_frames)"
   ]
  },
  {
   "cell_type": "markdown",
   "id": "6ce2dd2d",
   "metadata": {},
   "source": [
    "## Making Dark"
   ]
  },
  {
   "cell_type": "code",
   "execution_count": 5,
   "id": "224b8f30",
   "metadata": {},
   "outputs": [],
   "source": [
    "# For the Dark Times, exp_time=30\n",
    "dark,dark_cps = get_median(dark_frames,30)\n",
    "dark_final = dark_cps-bias"
   ]
  },
  {
   "cell_type": "markdown",
   "id": "30bed2b1",
   "metadata": {},
   "source": [
    "## Making Flats"
   ]
  },
  {
   "cell_type": "code",
   "execution_count": 6,
   "id": "6f849a05",
   "metadata": {},
   "outputs": [],
   "source": [
    "# For Sky_Flats_V\n",
    "_sky = []\n",
    "for i in range(3):\n",
    "    _Sky_V = Sky_V[0]-bias\n",
    "    sky_norm = _Sky_V/np.nanmedian(_Sky_V)\n",
    "    _sky.append(sky_norm)\n",
    "Sky_V_norm = np.stack(_sky,axis=0)\n",
    "Sky_V_final,sky_cps = get_median(Sky_V_norm)"
   ]
  },
  {
   "cell_type": "markdown",
   "id": "8667979b",
   "metadata": {},
   "source": [
    "## Making Science Image\n",
    "\n",
    "# $ScienceImg = \\frac{(ScienceFrame-bias-darks)}{FlatFrame}$"
   ]
  },
  {
   "cell_type": "code",
   "execution_count": 7,
   "id": "c5774b28",
   "metadata": {},
   "outputs": [
    {
     "name": "stderr",
     "output_type": "stream",
     "text": [
      "/tmp/ipykernel_68873/2558758989.py:5: RuntimeWarning: divide by zero encountered in divide\n",
      "  LM_1_final = (LM_1_cps - dark_final - bias)/Sky_V_final\n",
      "/tmp/ipykernel_68873/2558758989.py:5: RuntimeWarning: invalid value encountered in divide\n",
      "  LM_1_final = (LM_1_cps - dark_final - bias)/Sky_V_final\n",
      "/tmp/ipykernel_68873/2558758989.py:9: RuntimeWarning: divide by zero encountered in divide\n",
      "  LM_2_final = (LM_2_cps - dark_final - bias)/Sky_V_final\n",
      "/tmp/ipykernel_68873/2558758989.py:9: RuntimeWarning: invalid value encountered in divide\n",
      "  LM_2_final = (LM_2_cps - dark_final - bias)/Sky_V_final\n"
     ]
    }
   ],
   "source": [
    "# Get median Science images\n",
    "\n",
    "# For image in read 1\n",
    "LM_1,LM_1_cps = get_median(LM_Eros_1,30)\n",
    "LM_1_final = (LM_1_cps - dark_final - bias)/Sky_V_final\n",
    "\n",
    "# For image in read 1\n",
    "LM_2,LM_2_cps = get_median(LM_Eros_2,30)\n",
    "LM_2_final = (LM_2_cps - dark_final - bias)/Sky_V_final"
   ]
  },
  {
   "cell_type": "markdown",
   "id": "41d284d9",
   "metadata": {},
   "source": [
    "## Making Final fits files"
   ]
  },
  {
   "cell_type": "code",
   "execution_count": 8,
   "id": "de601398",
   "metadata": {},
   "outputs": [],
   "source": [
    "#Creating fits files using headers from obs\n",
    "\n",
    "# For read 1\n",
    "hdu_1 = fits.open(f'data-2023-09-25-nickel-Andrew.Skemer/d2086.fits')\n",
    "hdr_1 = hdu_1[0].header\n",
    "\n",
    "new_hdu_1 = fits.PrimaryHDU(data=LM_1_final,header=hdr_1)\n",
    "\n",
    "hdul = fits.HDUList([new_hdu_1])\n",
    "\n",
    "# Specify the filename for the FITS file\n",
    "fits_filename = '433_Eros_R1.fits'\n",
    "\n",
    "hdul.writeto(fits_filename, overwrite=True)"
   ]
  },
  {
   "cell_type": "code",
   "execution_count": 9,
   "id": "0c1867fb",
   "metadata": {},
   "outputs": [],
   "source": [
    "#Creating fits files using headers from obs\n",
    "\n",
    "# For read 1\n",
    "hdu_2 = fits.open(f'data-2023-09-25-nickel-Andrew.Skemer/d2158.fits')\n",
    "hdr_2 = hdu_2[0].header\n",
    "\n",
    "new_hdu_2 = fits.PrimaryHDU(data=LM_2_final,header=hdr_2)\n",
    "\n",
    "hdul = fits.HDUList([new_hdu_2])\n",
    "\n",
    "# Specify the filename for the FITS file\n",
    "fits_filename = '433_Eros_R2.fits'\n",
    "\n",
    "hdul.writeto(fits_filename, overwrite=True)"
   ]
  },
  {
   "cell_type": "code",
   "execution_count": 10,
   "id": "4c60b8d7",
   "metadata": {},
   "outputs": [
    {
     "data": {
      "text/html": [
       "<div>\n",
       "<style scoped>\n",
       "    .dataframe tbody tr th:only-of-type {\n",
       "        vertical-align: middle;\n",
       "    }\n",
       "\n",
       "    .dataframe tbody tr th {\n",
       "        vertical-align: top;\n",
       "    }\n",
       "\n",
       "    .dataframe thead th {\n",
       "        text-align: right;\n",
       "    }\n",
       "</style>\n",
       "<table border=\"1\" class=\"dataframe\">\n",
       "  <thead>\n",
       "    <tr style=\"text-align: right;\">\n",
       "      <th></th>\n",
       "      <th>ast_x</th>\n",
       "      <th>ast_y</th>\n",
       "      <th>star_x</th>\n",
       "      <th>star_y</th>\n",
       "    </tr>\n",
       "    <tr>\n",
       "      <th>obj_name</th>\n",
       "      <th></th>\n",
       "      <th></th>\n",
       "      <th></th>\n",
       "      <th></th>\n",
       "    </tr>\n",
       "  </thead>\n",
       "  <tbody>\n",
       "    <tr>\n",
       "      <th>Read_1</th>\n",
       "      <td>558.412</td>\n",
       "      <td>496.649</td>\n",
       "      <td>865.803</td>\n",
       "      <td>491.497</td>\n",
       "    </tr>\n",
       "    <tr>\n",
       "      <th>Read_2</th>\n",
       "      <td>589.352</td>\n",
       "      <td>526.496</td>\n",
       "      <td>858.301</td>\n",
       "      <td>542.496</td>\n",
       "    </tr>\n",
       "  </tbody>\n",
       "</table>\n",
       "</div>"
      ],
      "text/plain": [
       "            ast_x    ast_y   star_x   star_y\n",
       "obj_name                                    \n",
       "Read_1    558.412  496.649  865.803  491.497\n",
       "Read_2    589.352  526.496  858.301  542.496"
      ]
     },
     "execution_count": 10,
     "metadata": {},
     "output_type": "execute_result"
    }
   ],
   "source": [
    "import pandas as pd\n",
    "\n",
    "# Positions from ds9_centroids\n",
    "df = pd.read_csv('obj_pos.csv')\n",
    "df = df.set_index('obj_name')\n",
    "df"
   ]
  },
  {
   "cell_type": "code",
   "execution_count": 11,
   "id": "ff211b68",
   "metadata": {},
   "outputs": [
    {
     "name": "stdout",
     "output_type": "stream",
     "text": [
      "-307.39099999999996 -369.154\n",
      "-268.94900000000007 -331.80500000000006\n"
     ]
    }
   ],
   "source": [
    "del_x_1 = df.loc['Read_1']['ast_x'] - df.loc['Read_1']['star_x']\n",
    "del_y_1 = df.loc['Read_1']['ast_y'] - df.loc['Read_1']['star_x']\n",
    "print(del_x_1,del_y_1)\n",
    "\n",
    "del_x_2 = df.loc['Read_2']['ast_x'] - df.loc['Read_2']['star_x']\n",
    "del_y_2 = df.loc['Read_2']['ast_y'] - df.loc['Read_2']['star_x']\n",
    "\n",
    "print(del_x_2,del_y_2)"
   ]
  }
 ],
 "metadata": {
  "kernelspec": {
   "display_name": "Python 3 (ipykernel)",
   "language": "python",
   "name": "python3"
  },
  "language_info": {
   "codemirror_mode": {
    "name": "ipython",
    "version": 3
   },
   "file_extension": ".py",
   "mimetype": "text/x-python",
   "name": "python",
   "nbconvert_exporter": "python",
   "pygments_lexer": "ipython3",
   "version": "3.10.12"
  }
 },
 "nbformat": 4,
 "nbformat_minor": 5
}
