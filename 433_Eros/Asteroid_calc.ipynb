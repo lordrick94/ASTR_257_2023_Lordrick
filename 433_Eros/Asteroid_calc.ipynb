{
 "cells": [
  {
   "attachments": {},
   "cell_type": "markdown",
   "id": "da0581ce",
   "metadata": {},
   "source": [
    "# Calculating the distance to the Asteroid\n",
    "\n",
    "From the image below\n",
    "\n",
    "![Javatpoint](asteroidD.png)  \n",
    "\n",
    "t is approx 7 arcseconds\n",
    "\n",
    "D will be estimated using revolution speed (107000 km/hr) of earth and time between observations approx 2.5 hrs\n",
    "\n",
    "R will calculated using the relation\n",
    "\n",
    "## $R = \\frac{\\frac{D}{2}}{tan(\\frac{t}{2})}$"
   ]
  },
  {
   "cell_type": "code",
   "execution_count": 1,
   "id": "6e2fe67e",
   "metadata": {},
   "outputs": [],
   "source": [
    "import numpy as np\n",
    "from astropy import constants as c, units as u\n",
    "from astropy.coordinates import Angle"
   ]
  },
  {
   "cell_type": "code",
   "execution_count": 8,
   "id": "94b889fb",
   "metadata": {},
   "outputs": [
    {
     "name": "stdout",
     "output_type": "stream",
     "text": [
      "0.9162978572970231\n",
      "The distance from earth to 433 Eros is 8.213281e+09 km\n"
     ]
    }
   ],
   "source": [
    "earth_circumfrence = 2*np.pi*c.au.value/100\n",
    "t = 2.5\n",
    "distance_travelled = (t/24/3600)*earth_circumfrence\n",
    "\n",
    "\n",
    "# Initiate values\n",
    "t =11.22   #in arcseconds\n",
    "theta = Angle(52.5,u.degree)\n",
    "theta = theta.rad\n",
    "print(theta)\n",
    "# Converting to radians\n",
    "t = t*np.pi/(180*3600)\n",
    "t = t*np.cos(theta)\n",
    "\n",
    "\n",
    "R = (distance_travelled/2)/np.tan(t/2)\n",
    "\n",
    "print(f'The distance from earth to 433 Eros is {R:3e} km')"
   ]
  },
  {
   "attachments": {},
   "cell_type": "markdown",
   "id": "a07f456b",
   "metadata": {},
   "source": []
  }
 ],
 "metadata": {
  "kernelspec": {
   "display_name": "Python 3 (ipykernel)",
   "language": "python",
   "name": "python3"
  },
  "language_info": {
   "codemirror_mode": {
    "name": "ipython",
    "version": 3
   },
   "file_extension": ".py",
   "mimetype": "text/x-python",
   "name": "python",
   "nbconvert_exporter": "python",
   "pygments_lexer": "ipython3",
   "version": "3.11.5"
  }
 },
 "nbformat": 4,
 "nbformat_minor": 5
}
