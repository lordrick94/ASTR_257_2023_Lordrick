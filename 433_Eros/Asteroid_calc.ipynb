{
 "cells": [
  {
   "cell_type": "markdown",
   "id": "da0581ce",
   "metadata": {},
   "source": [
    "# Calculating the distance to the Asteroid\n",
    "\n",
    "From the image below\n",
    "\n",
    "![Javatpoint](asteroidD.png)  \n",
    "\n",
    "t is approx 7 arcseconds\n",
    "\n",
    "D will be estimated using revolution speed (107000 km/hr) of earth and time between observations approx 2.5 hrs\n",
    "\n",
    "R will calculated using the relation\n",
    "\n",
    "## $R = \\frac{\\frac{D}{2}}{tan(\\frac{t}{2})}$"
   ]
  },
  {
   "cell_type": "code",
   "execution_count": 5,
   "id": "3b868153",
   "metadata": {},
   "outputs": [
    {
     "name": "stdout",
     "output_type": "stream",
     "text": [
      "The distance from earth to 433 Eros is 136209291.44087687 km\n"
     ]
    }
   ],
   "source": [
    "import numpy as np\n",
    "# Initiate values\n",
    "t = 7.07 #in arcseconds\n",
    "\n",
    "# Converting to radians\n",
    "t = t/3600\n",
    "\n",
    "# Calculating distance covered by earth which makes the baseline\n",
    "D = 107000*2.5 #speed x time\n",
    "\n",
    "R = (D/2)/np.tan(t/2)\n",
    "\n",
    "print(f'The distance from earth to 433 Eros is {R} km')\n",
    "\n"
   ]
  }
 ],
 "metadata": {
  "kernelspec": {
   "display_name": "Python 3 (ipykernel)",
   "language": "python",
   "name": "python3"
  },
  "language_info": {
   "codemirror_mode": {
    "name": "ipython",
    "version": 3
   },
   "file_extension": ".py",
   "mimetype": "text/x-python",
   "name": "python",
   "nbconvert_exporter": "python",
   "pygments_lexer": "ipython3",
   "version": "3.10.12"
  }
 },
 "nbformat": 4,
 "nbformat_minor": 5
}
